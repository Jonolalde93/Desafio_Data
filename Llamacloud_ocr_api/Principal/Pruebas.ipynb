{
 "cells": [
  {
   "cell_type": "markdown",
   "id": "cd592644",
   "metadata": {},
   "source": [
    "en este notebook procederemos a realizar las pruebas para sacar la informacion de los tickets. "
   ]
  },
  {
   "cell_type": "code",
   "execution_count": null,
   "id": "f70ba374",
   "metadata": {},
   "outputs": [],
   "source": [
    "# usaremos una api para contactar. \n",
    "\n"
   ]
  },
  {
   "cell_type": "code",
   "execution_count": null,
   "id": "4db14177",
   "metadata": {},
   "outputs": [],
   "source": [
    "from llama_cloud_services import LlamaExtract\n",
    "from llama_cloud import ExtractConfig, ExtractMode\n",
    "from pydantic import BaseModel, Field\n",
    "\n",
    "# Initialize client\n",
    "extractor = LlamaExtract(api_key=\"llx-80200pQgQeS1QWleqJHsDUjIBFf4QCbQIOyqyPJbo6KnGNRq\")\n",
    "\n",
    "\n",
    "# Define schema using Pydantic\n",
    "class Resume(BaseModel):\n",
    "    name: str = Field(description=\"Full name of candidate\")\n",
    "    email: str = Field(description=\"Email address\")\n",
    "    skills: list[str] = Field(description=\"Technical skills and technologies\")\n",
    "\n",
    "\n",
    "# Configure extraction settings\n",
    "config = ExtractConfig(extraction_mode=ExtractMode.FAST)\n",
    "\n",
    "# Extract data directly from document - no agent needed!\n",
    "result = extractor.extract(Resume, config, \"resume.pdf\")\n",
    "print(result.data)"
   ]
  },
  {
   "cell_type": "code",
   "execution_count": null,
   "id": "7bc6ffcc",
   "metadata": {},
   "outputs": [
    {
     "name": "stderr",
     "output_type": "stream",
     "text": [
      "Uploading files: 100%|██████████| 1/1 [00:00<00:00,  1.06it/s]\n",
      "Creating extraction jobs: 100%|██████████| 1/1 [00:00<00:00,  1.01it/s]\n",
      "Extracting files: 100%|██████████| 1/1 [00:05<00:00,  5.19s/it]"
     ]
    },
    {
     "name": "stdout",
     "output_type": "stream",
     "text": [
      "{'FACTURA': '3', 'NIF': '', 'EMPRESA': 'Iraitz Montalbán', 'DIRECCIÓN': 'Avenida principal, 1\\nBilbao, Bizkaia, Spain', 'iva_percentage': 21.0, 'products': [{'product_name': 'Código de aplicación', 'units': '1', 'unit_price': '150€', 'total_price': '150€'}], 'iva_amount': '31,5€', 'total_amount': '181,5€'}\n"
     ]
    },
    {
     "name": "stderr",
     "output_type": "stream",
     "text": [
      "\n"
     ]
    }
   ],
   "source": [
    "# codigo primigenio que funciona\n",
    "from llama_cloud_services import LlamaExtract\n",
    "from pydantic import BaseModel, Field\n",
    "\n",
    "# bring in our LLAMA_CLOUD_API_KEY\n",
    "from dotenv import load_dotenv\n",
    "load_dotenv()\n",
    "\n",
    "# Initialize client\n",
    "extractor = LlamaExtract(api_key=\"llx-80200pQgQeS1QWleqJHsDUjIBFf4QCbQIOyqyPJbo6KnGNRq\")\n",
    "\n",
    "\n",
    "# Create extraction agent\n",
    "#agent = extractor.create_agent(name=\"resume-parser\", data_schema=Resume)\n",
    "agent = extractor.get_agent(name=\"LEER FACTURAS 1\")\n",
    "\n",
    "# Extract data from document\n",
    "result = agent.extract(\"factura3.pdf\")\n",
    "print(result.data)"
   ]
  },
  {
   "cell_type": "code",
   "execution_count": null,
   "id": "03a27dbe",
   "metadata": {},
   "outputs": [
    {
     "name": "stderr",
     "output_type": "stream",
     "text": [
      "Uploading files: 100%|██████████| 1/1 [00:01<00:00,  1.07s/it]\n",
      "Creating extraction jobs: 100%|██████████| 1/1 [00:01<00:00,  1.18s/it]\n",
      "Extracting files: 100%|██████████| 1/1 [00:05<00:00,  5.30s/it]"
     ]
    },
    {
     "name": "stdout",
     "output_type": "stream",
     "text": [
      "{'FACTURA': '3', 'NIF': '', 'EMPRESA': 'Iraitz Montalbán', 'DIRECCIÓN': 'Avenida principal, 1, Bilbao, Bizkaia, Spain', 'iva_percentage': 21.0, 'products': [{'product_name': 'Código de aplicación', 'units': '1', 'unit_price': '150€', 'total_price': '150€'}], 'iva_amount': '31,5€', 'total_amount': '181,5€'}\n"
     ]
    },
    {
     "name": "stderr",
     "output_type": "stream",
     "text": [
      "\n"
     ]
    }
   ],
   "source": [
    "\n",
    "\n",
    "from llama_cloud_services import LlamaExtract\n",
    "from pydantic import BaseModel, Field\n",
    "from dotenv import load_dotenv\n",
    "load_dotenv()\n",
    "import os\n",
    "\n",
    "\n",
    "# Initialize client\n",
    "api_key = os.getenv(\"LLAMA-API-KEY\")\n",
    "extractor = LlamaExtract(api_key=api_key)\n",
    "\n",
    "\n",
    "# Create extraction agent\n",
    "#agent = extractor.create_agent(name=\"resume-parser\", data_schema=Resume)\n",
    "name=os.getenv(\"NOMBRE-AGENTE\")\n",
    "agent = extractor.get_agent(name=name)\n",
    "\n",
    "\n",
    "# Extract data from document\n",
    "result = agent.extract(\"factura3.pdf\")\n",
    "print(result.data)"
   ]
  },
  {
   "cell_type": "code",
   "execution_count": 1,
   "id": "5593056b",
   "metadata": {},
   "outputs": [
    {
     "name": "stdout",
     "output_type": "stream",
     "text": [
      "llx-80200pQgQeS1QWleqJHsDUjIBFf4QCbQIOyqyPJbo6KnGNRq\n"
     ]
    }
   ],
   "source": [
    "from dotenv import load_dotenv\n",
    "load_dotenv()\n",
    "import os\n",
    "\n",
    "# Initialize client\n",
    "api_key = os.getenv(\"LLAMA-API-KEY\")\n",
    "print(api_key)"
   ]
  },
  {
   "cell_type": "code",
   "execution_count": null,
   "id": "ffe11c9c",
   "metadata": {},
   "outputs": [],
   "source": [
    "\n",
    "\n",
    "from llama_cloud_services import LlamaExtract\n",
    "from pydantic import BaseModel, Field\n",
    "from dotenv import load_dotenv\n",
    "load_dotenv()\n",
    "import os\n",
    "\n",
    "\n",
    "# Initialize client\n",
    "api_key = os.getenv(\"LLAMA-API-KEY\")\n",
    "extractor = LlamaExtract(api_key=api_key)\n",
    "\n",
    "\n",
    "# Create extraction agent\n",
    "#agent = extractor.create_agent(name=\"resume-parser\", data_schema=Resume)\n",
    "name=os.getenv(\"NOMBRE-AGENTE\")\n",
    "agent = extractor.get_agent(name=name)\n",
    "\n",
    "\n",
    "# Extract data from document\n",
    "result = agent.extract(\"factura3.pdf\")\n",
    "print(result.data)"
   ]
  },
  {
   "cell_type": "code",
   "execution_count": 3,
   "id": "ba93e42d",
   "metadata": {},
   "outputs": [],
   "source": [
    "from fastapi import FastAPI, UploadFile, File\n",
    "from llama_cloud_services import LlamaExtract\n",
    "from dotenv import load_dotenv\n",
    "import os\n",
    "\n",
    "load_dotenv()\n",
    "\n",
    "app = FastAPI()\n",
    "\n",
    "api_key = os.getenv(\"LLAMA-API-KEY\")\n",
    "agent_name = os.getenv(\"NOMBRE-AGENTE\")\n",
    "extractor = LlamaExtract(api_key=api_key)\n",
    "agent = extractor.get_agent(name=agent_name)\n",
    "\n",
    "@app.post(\"/extract/\")\n",
    "async def extract_data(file: UploadFile = File(...)):\n",
    "    # Guardar el archivo temporalmente\n",
    "    file_location = f\"temp_{file.filename}\"\n",
    "    with open(file_location, \"wb\") as f:\n",
    "        f.write(await file.read())\n",
    "    # Extraer datos\n",
    "    result = agent.extract(file_location)\n",
    "    # Eliminar el archivo temporal si lo deseas\n",
    "    os.remove(file_location)\n",
    "    return {\"data\": result.data}"
   ]
  },
  {
   "cell_type": "code",
   "execution_count": 1,
   "id": "f323ae08",
   "metadata": {},
   "outputs": [],
   "source": [
    "from fastapi import FastAPI, UploadFile, File\n",
    "from llama_cloud_services import LlamaExtract\n",
    "from dotenv import load_dotenv\n",
    "import os\n",
    "\n",
    "load_dotenv()\n",
    "\n",
    "app = FastAPI()\n",
    "\n",
    "api_key = os.getenv(\"LLAMA-API-KEY\")\n",
    "agent_name = os.getenv(\"NOMBRE-AGENTE\")\n",
    "extractor = LlamaExtract(api_key=api_key)\n",
    "agent = extractor.get_agent(name=agent_name)\n",
    "\n",
    "@app.post(\"/extract/\")\n",
    "async def extract_data(file: UploadFile = File(...)):\n",
    "    file_bytes = await file.read()\n",
    "    # Si agent.extract acepta bytes:\n",
    "    result = agent.extract(file_bytes)\n",
    "    return {\"data\": result.data}"
   ]
  },
  {
   "cell_type": "code",
   "execution_count": 3,
   "id": "03f52dc0",
   "metadata": {},
   "outputs": [],
   "source": [
    "from fastapi import FastAPI, UploadFile, File\n",
    "from llama_cloud_services import LlamaExtract\n",
    "from llama_cloud_services import SourceText\n",
    "\n",
    "from dotenv import load_dotenv\n",
    "import os\n",
    "\n",
    "load_dotenv()\n",
    "\n",
    "app = FastAPI(title=\"OCR\")\n",
    "\n",
    "api_key = os.getenv(\"LLAMA-API-KEY\")\n",
    "agent_name = os.getenv(\"NOMBRE-AGENTE\")\n",
    "extractor = LlamaExtract(api_key=api_key)\n",
    "agent = extractor.get_agent(name=agent_name)\n",
    "\n",
    "@app.post(\"/extract/\")\n",
    "async def extract_data(file: UploadFile = File(...)):\n",
    "    file_bytes = await file.read()\n",
    "    # Si agent.extract acepta bytes:\n",
    "    result = test_agent.extract(SourceText(file=file_bytes, filename=\"resume.pdf\"))\n",
    "    #(file_bytes)\n",
    "    return {\"data\": result.data}"
   ]
  }
 ],
 "metadata": {
  "kernelspec": {
   "display_name": "desafio",
   "language": "python",
   "name": "python3"
  },
  "language_info": {
   "codemirror_mode": {
    "name": "ipython",
    "version": 3
   },
   "file_extension": ".py",
   "mimetype": "text/x-python",
   "name": "python",
   "nbconvert_exporter": "python",
   "pygments_lexer": "ipython3",
   "version": "3.12.0"
  }
 },
 "nbformat": 4,
 "nbformat_minor": 5
}
